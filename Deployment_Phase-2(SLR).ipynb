{
 "cells": [
  {
   "cell_type": "code",
   "execution_count": 14,
   "metadata": {},
   "outputs": [],
   "source": [
    "import pickle"
   ]
  },
  {
   "cell_type": "code",
   "execution_count": 15,
   "metadata": {},
   "outputs": [
    {
     "name": "stdout",
     "output_type": "stream",
     "text": [
      "Enter Number of Years Experiance : 0\n",
      "0  Years Experiance Person will get [[26777.3913412]]  Salary\n"
     ]
    }
   ],
   "source": [
    "userinput = int(input(\"Enter Number of Years Experiance : \"))\n",
    "loaded_model = pickle.load(open(\"finalized_model_linear.sav\",\"rb\"))\n",
    "result = loaded_model.predict([[userinput]])\n",
    "print(userinput,\" Years of Experiance Person will get\",result,\" Salary\")"
   ]
  },
  {
   "cell_type": "code",
   "execution_count": null,
   "metadata": {},
   "outputs": [],
   "source": []
  }
 ],
 "metadata": {
  "kernelspec": {
   "display_name": "Python 3",
   "language": "python",
   "name": "python3"
  },
  "language_info": {
   "codemirror_mode": {
    "name": "ipython",
    "version": 3
   },
   "file_extension": ".py",
   "mimetype": "text/x-python",
   "name": "python",
   "nbconvert_exporter": "python",
   "pygments_lexer": "ipython3",
   "version": "3.7.4"
  }
 },
 "nbformat": 4,
 "nbformat_minor": 2
}
